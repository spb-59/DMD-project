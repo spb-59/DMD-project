{
 "cells": [
  {
   "cell_type": "code",
   "execution_count": null,
   "metadata": {},
   "outputs": [],
   "source": []
  },
  {
   "cell_type": "code",
   "execution_count": 12,
   "metadata": {},
   "outputs": [],
   "source": [
    "import pandas as pd\n",
    "import matplotlib.pyplot as plt\n",
    "from scipy.stats import ranksums"
   ]
  },
  {
   "cell_type": "code",
   "execution_count": 16,
   "metadata": {},
   "outputs": [],
   "source": [
    "SR=pd.read_csv('features/SR.csv').dropna()\n",
    "AFIB=pd.read_csv(\"features/AFIB.csv\").dropna()\n",
    "\n"
   ]
  },
  {
   "cell_type": "code",
   "execution_count": 17,
   "metadata": {},
   "outputs": [
    {
     "data": {
      "text/plain": [
       "<BarContainer object of 2 artists>"
      ]
     },
     "execution_count": 17,
     "metadata": {},
     "output_type": "execute_result"
    },
    {
     "data": {
      "image/png": "[encoded data removed]",
      "text/plain": [
       "<Figure size 640x480 with 1 Axes>"
      ]
     },
     "metadata": {},
     "output_type": "display_data"
    }
   ],
   "source": [
    "plt.bar(['healthy','fib'],[SR[' Lam_max'].mean(),AFIB[' Lam_max'].mean()])"
   ]
  },
  {
   "cell_type": "code",
   "execution_count": 21,
   "metadata": {},
   "outputs": [
    {
     "data": {
      "text/plain": [
       "Index(['R_N', ' R_M', ' R_P', ' Lam_min', ' Lam_max', ' M_s1', ' M_s2',\n",
       "       ' M_s3', ' M_s4', ' M_s5', ' M_s6', ' M_s7', ' M_s8', ' M_s9', ' M_s10',\n",
       "       ' M_s11', ' M_s12', ' P_s1', ' P_s2', ' P_s3', ' P_s4', ' P_s5',\n",
       "       ' P_s6', ' P_s7', ' P_s8', ' P_s9', ' P_s10', ' P_s11', ' P_s12',\n",
       "       ' M_u1', ' M_u2', ' M_u3', ' M_u4', ' M_u5', ' M_u6', ' M_u7', ' M_u8',\n",
       "       ' M_u9', ' M_u10', ' M_u11', ' M_u12', ' P_u1', ' P_u2', ' P_u3',\n",
       "       ' P_u4', ' P_u5', ' P_u6', ' P_u7', ' P_u8', ' P_u9', ' P_u10',\n",
       "       ' P_u11', ' P_u12'],\n",
       "      dtype='object')"
      ]
     },
     "execution_count": 21,
     "metadata": {},
     "output_type": "execute_result"
    }
   ],
   "source": [
    "SR.columns"
   ]
  },
  {
   "cell_type": "code",
   "execution_count": 19,
   "metadata": {},
   "outputs": [
    {
     "name": "stdout",
     "output_type": "stream",
     "text": [
      "\n",
      "Wilcoxon Rank-Sum Test Results:\n",
      "          Statistic   P-value Significant\n",
      "R_N       -6.677685       0.0        True\n",
      " R_M       3.040109  0.002365        True\n",
      " R_P       4.332859  0.000015        True\n",
      " Lam_min        0.0       1.0       False\n",
      " Lam_max -10.390551       0.0        True\n",
      " M_s1     25.936159       0.0        True\n",
      " M_s2     31.044917       0.0        True\n",
      " M_s3      6.865935       0.0        True\n",
      " M_s4     37.524942       0.0        True\n",
      " M_s5      8.925666       0.0        True\n",
      " M_s6     16.876055       0.0        True\n",
      " M_s7      6.313419       0.0        True\n",
      " M_s8      3.107093  0.001889        True\n",
      " M_s9    -16.724144       0.0        True\n",
      " M_s10   -15.274853       0.0        True\n",
      " M_s11   -26.686482       0.0        True\n",
      " M_s12   -12.759259       0.0        True\n",
      " P_s1     -3.300621  0.000965        True\n",
      " P_s2     -3.365158  0.000765        True\n",
      " P_s3     -3.959194  0.000075        True\n",
      " P_s4     -1.033987  0.301142       False\n",
      " P_s5     -2.442256  0.014596        True\n",
      " P_s6     -3.501836  0.000462        True\n",
      " P_s7     -1.248764  0.211751       False\n",
      " P_s8     -3.184857  0.001448        True\n",
      " P_s9     -2.680671  0.007347        True\n",
      " P_s10    -4.222289  0.000024        True\n",
      " P_s11    -4.030319  0.000056        True\n",
      " P_s12     -3.91352  0.000091        True\n",
      " M_u1     27.683933       0.0        True\n",
      " M_u2     26.323006       0.0        True\n",
      " M_u3      13.97149       0.0        True\n",
      " M_u4     31.643979       0.0        True\n",
      " M_u5     16.431829       0.0        True\n",
      " M_u6     19.007628       0.0        True\n",
      " M_u7     16.337827       0.0        True\n",
      " M_u8     12.983386       0.0        True\n",
      " M_u9      2.560352  0.010457        True\n",
      " M_u10     7.024301       0.0        True\n",
      " M_u11     0.860003  0.389787       False\n",
      " M_u12     4.494178  0.000007        True\n",
      " P_u1     -8.018011       0.0        True\n",
      " P_u2     18.888111       0.0        True\n",
      " P_u3     11.755401       0.0        True\n",
      " P_u4      9.271646       0.0        True\n",
      " P_u5     -2.347326  0.018909        True\n",
      " P_u6     17.615272       0.0        True\n",
      " P_u7      1.040461  0.298126       False\n",
      " P_u8     17.295129       0.0        True\n",
      " P_u9     35.971624       0.0        True\n",
      " P_u10    22.275527       0.0        True\n",
      " P_u11     6.476217       0.0        True\n",
      " P_u12     2.813838  0.004895        True\n"
     ]
    }
   ],
   "source": [
    "results = {}\n",
    "\n",
    "for column in SR.columns:\n",
    "    # Extract the values for the current feature\n",
    "    group1 = SR[column]\n",
    "    group2 = AFIB[column]\n",
    "    \n",
    "    # Perform the Wilcoxon rank-sum test\n",
    "    statistic, p_value = ranksums(group1, group2)\n",
    "    \n",
    "    # Store the results\n",
    "    results[column] = {\n",
    "        'Statistic': statistic,\n",
    "        'P-value': p_value,\n",
    "        'Significant':'True' if p_value<0.05 else 'False'\n",
    "    }\n",
    "\n",
    "# Convert results to a DataFrame for better readability\n",
    "results_df = pd.DataFrame(results).T\n",
    "print(\"\\nWilcoxon Rank-Sum Test Results:\")\n",
    "print(results_df)"
   ]
  }
 ],
 "metadata": {
  "kernelspec": {
   "display_name": "env",
   "language": "python",
   "name": "python3"
  },
  "language_info": {
   "codemirror_mode": {
    "name": "ipython",
    "version": 3
   },
   "file_extension": ".py",
   "mimetype": "text/x-python",
   "name": "python",
   "nbconvert_exporter": "python",
   "pygments_lexer": "ipython3",
   "version": "3.12.3"
  }
 },
 "nbformat": 4,
 "nbformat_minor": 2
}
